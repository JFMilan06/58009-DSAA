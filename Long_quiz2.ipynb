{
  "nbformat": 4,
  "nbformat_minor": 0,
  "metadata": {
    "colab": {
      "provenance": [],
      "authorship_tag": "ABX9TyNchwutrf1yNjPQkkLsp19m",
      "include_colab_link": true
    },
    "kernelspec": {
      "name": "python3",
      "display_name": "Python 3"
    },
    "language_info": {
      "name": "python"
    }
  },
  "cells": [
    {
      "cell_type": "markdown",
      "metadata": {
        "id": "view-in-github",
        "colab_type": "text"
      },
      "source": [
        "<a href=\"https://colab.research.google.com/github/JFMilan06/58009-DSAA/blob/main/Long_quiz2.ipynb\" target=\"_parent\"><img src=\"https://colab.research.google.com/assets/colab-badge.svg\" alt=\"Open In Colab\"/></a>"
      ]
    },
    {
      "cell_type": "code",
      "source": [
        "\n",
        "class G28:\n",
        "  def __init__(self,gdict=None):\n",
        "    if gdict is None:\n",
        "      gdict = {}\n",
        "    self.gdict = gdict\n",
        "\n",
        "  def Edges(self):\n",
        "    return self.findedges()\n",
        "\n",
        "  def findedges(self):\n",
        "    edgename = []\n",
        "    for vrtx in self.gdict:\n",
        "      for nxtvrtx in self.gdict[vrtx]:\n",
        "        if {nxtvrtx, vrtx} not in edgename:\n",
        "          edgename.append({vrtx, nxtvrtx})\n",
        "    return edgename\n",
        "\n",
        "G28_elements = {\n",
        "    \"E\" : [\"I\",\"J\",\"K\",\"M\"],\n",
        "    \"F\" : [\"I\",\"J\",\"K\",\"P\"],\n",
        "    \"H\" : [\"I\",\"J\",\"K\"],\n",
        "    \"I\" : [\"E\",\"F\",\"H\"],\n",
        "    \"J\" : [\"E\",\"F\",\"H\"],\n",
        "    \"K\" : [\"E\",\"F\",\"H\"],\n",
        "    \"M\" : [\"E\"],\n",
        "    \"P\" : [\"F\"]}\n",
        "g = G28(G28_elements)\n",
        "print(g.Edges())"
      ],
      "metadata": {
        "colab": {
          "base_uri": "https://localhost:8080/"
        },
        "id": "NVyWrR7QxEJ0",
        "outputId": "8da447d0-7909-4eb8-9567-3c1dda91d00f"
      },
      "execution_count": 15,
      "outputs": [
        {
          "output_type": "stream",
          "name": "stdout",
          "text": [
            "[{'E', 'I'}, {'E', 'J'}, {'E', 'K'}, {'E', 'M'}, {'I', 'F'}, {'J', 'F'}, {'K', 'F'}, {'P', 'F'}, {'I', 'H'}, {'J', 'H'}, {'K', 'H'}]\n"
          ]
        }
      ]
    },
    {
      "cell_type": "code",
      "source": [
        "class G28:\n",
        "  def __init__(self,gdict=None):\n",
        "    if gdict is None:\n",
        "      gdict = []\n",
        "    self.gdict = gdict\n",
        "\n",
        "  def GetVertices(self):\n",
        "    return list(self.gdict.keys())\n",
        "G28_elements = {\n",
        "    \"E\" : [\"I\",\"J\",\"K\",\"M\"],\n",
        "    \"F\" : [\"I\",\"J\",\"K\",\"P\"],\n",
        "    \"H\" : [\"I\",\"J\",\"K\"],\n",
        "    \"I\" : [\"E\",\"F\",\"H\"],\n",
        "    \"J\" : [\"E\",\"F\",\"H\"],\n",
        "    \"K\" : [\"E\",\"F\",\"H\"],\n",
        "    \"M\" : [\"E\"],\n",
        "    \"P\" : [\"F\"]}\n",
        "g = G28(G28_elements)\n",
        "print(g.GetVertices())"
      ],
      "metadata": {
        "colab": {
          "base_uri": "https://localhost:8080/"
        },
        "id": "fgvNICofxEl7",
        "outputId": "16e683b0-2d49-485c-b586-544ea87788d5"
      },
      "execution_count": 14,
      "outputs": [
        {
          "output_type": "stream",
          "name": "stdout",
          "text": [
            "['E', 'F', 'H', 'I', 'J', 'K', 'M', 'P']\n"
          ]
        }
      ]
    }
  ]
}