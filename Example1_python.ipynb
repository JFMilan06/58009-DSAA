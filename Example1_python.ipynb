{
  "nbformat": 4,
  "nbformat_minor": 0,
  "metadata": {
    "colab": {
      "provenance": [],
      "authorship_tag": "ABX9TyOgMT6iwqjwUuc35phQzw9h",
      "include_colab_link": true
    },
    "kernelspec": {
      "name": "python3",
      "display_name": "Python 3"
    },
    "language_info": {
      "name": "python"
    }
  },
  "cells": [
    {
      "cell_type": "markdown",
      "metadata": {
        "id": "view-in-github",
        "colab_type": "text"
      },
      "source": [
        "<a href=\"https://colab.research.google.com/github/JFMilan06/58009-DSAA/blob/main/Example1_python.ipynb\" target=\"_parent\"><img src=\"https://colab.research.google.com/assets/colab-badge.svg\" alt=\"Open In Colab\"/></a>"
      ]
    },
    {
      "cell_type": "code",
      "execution_count": 20,
      "metadata": {
        "colab": {
          "base_uri": "https://localhost:8080/"
        },
        "id": "6V60LF7Q643Q",
        "outputId": "f7142813-06bd-472c-e9bf-a0fc2e3172c3"
      },
      "outputs": [
        {
          "output_type": "stream",
          "name": "stdout",
          "text": [
            "intput length:2\n",
            "intput width:2\n",
            "The area of the rectangle is  4\n"
          ]
        }
      ],
      "source": [
        "class Rectangle():\n",
        "    def __init__(self,length,width):\n",
        "        self.length = length\n",
        "        self.width = width\n",
        "\n",
        "    def Area(self):\n",
        "      return self.length*self.width\n",
        "\n",
        "\n",
        "length=int(input(\"intput length:\"))\n",
        "width=int(input(\"intput width:\"))\n",
        "rectangle = Rectangle(length,width)\n",
        "print(\"The area of the rectangle is \",rectangle.Area())"
      ]
    }
  ]
}