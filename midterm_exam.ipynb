{
  "nbformat": 4,
  "nbformat_minor": 0,
  "metadata": {
    "colab": {
      "provenance": [],
      "authorship_tag": "ABX9TyMkm9IAPlo8xzCzdiljYkiX",
      "include_colab_link": true
    },
    "kernelspec": {
      "name": "python3",
      "display_name": "Python 3"
    },
    "language_info": {
      "name": "python"
    }
  },
  "cells": [
    {
      "cell_type": "markdown",
      "metadata": {
        "id": "view-in-github",
        "colab_type": "text"
      },
      "source": [
        "<a href=\"https://colab.research.google.com/github/JFMilan06/58009-DSAA/blob/main/midterm_exam.ipynb\" target=\"_parent\"><img src=\"https://colab.research.google.com/assets/colab-badge.svg\" alt=\"Open In Colab\"/></a>"
      ]
    },
    {
      "cell_type": "code",
      "source": [
        "class G29:\n",
        "  def __init__(self,gdict=None):\n",
        "    if gdict is None:\n",
        "      gdict = []\n",
        "    self.gdict = gdict\n",
        "\n",
        "  def Edges(self):\n",
        "    return self.findedges()\n",
        "\n",
        "  def findedges(self):\n",
        "    edgename = []\n",
        "    for vrtx in self.gdict:\n",
        "      for nxtvrtx in self.gdict[vrtx]:\n",
        "        if {nxtvrtx, vrtx} not in edgename:\n",
        "          edgename.append({vrtx, nxtvrtx})\n",
        "    return edgename\n",
        "\n",
        "  def Vertices(self):\n",
        "    return list(self.gdict.keys())\n",
        "G29_elements = {\n",
        "    \"A\" : [\"B\"],\n",
        "    \"B\" : [\"A\",\"F\",\"C\",\"E\"],\n",
        "    \"C\" : [\"B\",\"E\",\"F\",\"D\",\"M\",\"I\"],\n",
        "    \"D\" : [\"C\",\"L\",\"K\"],\n",
        "    \"E\" : [\"B\",\"C\",\"N\"],\n",
        "    \"F\" : [\"B\",\"C\",\"I\",\"G\"],\n",
        "    \"G\" : [\"F\",\"I\",\"J\"],\n",
        "    \"I\" : [\"G\",\"J\",\"F\",\"C\",\"K\"],\n",
        "    \"J\" : [\"G\",\"I\",\"K\"],\n",
        "    \"K\" : [\"I\",\"D\",\"J\"],\n",
        "    \"L\" : [\"D\",\"M\",\"P\"],\n",
        "    \"M\" : [\"C\",\"L\",\"P\",\"N\",\"O\"],\n",
        "    \"N\" : [\"E\",\"M\",\"O\"],\n",
        "    \"O\" : [\"M\",\"N\",\"P\"],\n",
        "    \"P\" : [\"L\",\"M\",\"O\"]}\n",
        "g = G29(G29_elements)\n",
        "print(g.Vertices())\n",
        "print(g.Edges())"
      ],
      "metadata": {
        "colab": {
          "base_uri": "https://localhost:8080/"
        },
        "id": "fTt8KlPfROLo",
        "outputId": "1f513935-d0b2-4740-d09d-b0a9cd955d2a"
      },
      "execution_count": 8,
      "outputs": [
        {
          "output_type": "stream",
          "name": "stdout",
          "text": [
            "['A', 'B', 'C', 'D', 'E', 'F', 'G', 'I', 'J', 'K', 'L', 'M', 'N', 'O', 'P']\n",
            "[{'B', 'A'}, {'B', 'F'}, {'B', 'C'}, {'B', 'E'}, {'E', 'C'}, {'F', 'C'}, {'D', 'C'}, {'M', 'C'}, {'I', 'C'}, {'D', 'L'}, {'D', 'K'}, {'N', 'E'}, {'I', 'F'}, {'G', 'F'}, {'I', 'G'}, {'G', 'J'}, {'I', 'J'}, {'I', 'K'}, {'J', 'K'}, {'L', 'M'}, {'L', 'P'}, {'P', 'M'}, {'N', 'M'}, {'O', 'M'}, {'N', 'O'}, {'P', 'O'}]\n"
          ]
        }
      ]
    }
  ]
}