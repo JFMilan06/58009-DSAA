{
  "nbformat": 4,
  "nbformat_minor": 0,
  "metadata": {
    "colab": {
      "provenance": [],
      "authorship_tag": "ABX9TyPB4HP18+IAx7qyH4Q2Pc8m",
      "include_colab_link": true
    },
    "kernelspec": {
      "name": "python3",
      "display_name": "Python 3"
    },
    "language_info": {
      "name": "python"
    }
  },
  "cells": [
    {
      "cell_type": "markdown",
      "metadata": {
        "id": "view-in-github",
        "colab_type": "text"
      },
      "source": [
        "<a href=\"https://colab.research.google.com/github/JFMilan06/58009-DSAA/blob/main/Prelim_Exam.ipynb\" target=\"_parent\"><img src=\"https://colab.research.google.com/assets/colab-badge.svg\" alt=\"Open In Colab\"/></a>"
      ]
    },
    {
      "cell_type": "code",
      "execution_count": 22,
      "metadata": {
        "colab": {
          "base_uri": "https://localhost:8080/"
        },
        "id": "Kr3lhGZHBa-A",
        "outputId": "4af19917-1633-4055-8260-f995f24795ce"
      },
      "outputs": [
        {
          "output_type": "stream",
          "name": "stdout",
          "text": [
            "The total sum is 397\n",
            "[26, 49, 62, 75, 87, 98]\n"
          ]
        }
      ],
      "source": [
        "numbers = [26,49,98,87,62,75]\n",
        "sum = 0\n",
        "for i in numbers:\n",
        "  sum= sum+i\n",
        "\n",
        "sumn = _sum(numbers)\n",
        "print(\"The total sum is\",sumn)\n",
        "numbers.sort()\n",
        "print(numbers)"
      ]
    }
  ]
}