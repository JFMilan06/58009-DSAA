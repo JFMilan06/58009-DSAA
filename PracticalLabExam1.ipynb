{
  "nbformat": 4,
  "nbformat_minor": 0,
  "metadata": {
    "colab": {
      "provenance": [],
      "authorship_tag": "ABX9TyNlWrY5lIqumm7K56HtLqK7",
      "include_colab_link": true
    },
    "kernelspec": {
      "name": "python3",
      "display_name": "Python 3"
    },
    "language_info": {
      "name": "python"
    }
  },
  "cells": [
    {
      "cell_type": "markdown",
      "metadata": {
        "id": "view-in-github",
        "colab_type": "text"
      },
      "source": [
        "<a href=\"https://colab.research.google.com/github/JFMilan06/58009-DSAA/blob/main/PracticalLabExam1.ipynb\" target=\"_parent\"><img src=\"https://colab.research.google.com/assets/colab-badge.svg\" alt=\"Open In Colab\"/></a>"
      ]
    },
    {
      "cell_type": "code",
      "execution_count": 47,
      "metadata": {
        "colab": {
          "base_uri": "https://localhost:8080/"
        },
        "id": "y6P1I9Tyd9BR",
        "outputId": "b837f119-8871-4ba3-878d-743c6e0a2e71"
      },
      "outputs": [
        {
          "output_type": "stream",
          "name": "stdout",
          "text": [
            "The odd numbers in the TestScores are\n",
            "49\n",
            "87\n",
            "75\n",
            "The sum of the TestScores is  211\n"
          ]
        }
      ],
      "source": [
        "def _sum(TestScores):\n",
        "    sum = 0\n",
        "    print('The odd numbers in the TestScores are')\n",
        "    for i in TestScores:\n",
        "      if i%2==1:\n",
        "        print(i)\n",
        "        sum = sum + i\n",
        "    return(sum)\n",
        "if __name__ == \"__main__\":\n",
        "    TestScores = [26,49,98,87,62,75]\n",
        "    n = len(TestScores)\n",
        "    ans = _sum(TestScores)\n",
        "    print('The sum of the TestScores is ', ans)"
      ]
    }
  ]
}