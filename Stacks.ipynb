{
  "nbformat": 4,
  "nbformat_minor": 0,
  "metadata": {
    "colab": {
      "provenance": [],
      "authorship_tag": "ABX9TyMhy18B1xTl+pQ4rrUFj4N8",
      "include_colab_link": true
    },
    "kernelspec": {
      "name": "python3",
      "display_name": "Python 3"
    },
    "language_info": {
      "name": "python"
    }
  },
  "cells": [
    {
      "cell_type": "markdown",
      "metadata": {
        "id": "view-in-github",
        "colab_type": "text"
      },
      "source": [
        "<a href=\"https://colab.research.google.com/github/JFMilan06/58009-DSAA/blob/main/Stacks.ipynb\" target=\"_parent\"><img src=\"https://colab.research.google.com/assets/colab-badge.svg\" alt=\"Open In Colab\"/></a>"
      ]
    },
    {
      "cell_type": "code",
      "execution_count": 14,
      "metadata": {
        "colab": {
          "base_uri": "https://localhost:8080/"
        },
        "id": "W0rY4ruhyrrH",
        "outputId": "04e3a7b1-3a20-4555-898c-108979425257"
      },
      "outputs": [
        {
          "output_type": "stream",
          "name": "stdout",
          "text": [
            "['Mon', 'Tue', 'Wed', 'Thu', 'Fri', 'Sat', 'Sun']\n",
            "Sun\n",
            "Sat\n",
            "Fri\n",
            "Thu\n",
            "Wed\n",
            "Tue\n",
            "Mon\n",
            "No element in the Stack\n",
            "[]\n"
          ]
        }
      ],
      "source": [
        "class Stack:\n",
        "  def __init__(self):\n",
        "    self.stack = []\n",
        "  def add(self, dataval):\n",
        "    # Use list append method to addelement\n",
        "    if dataval not in self.stack:\n",
        "      self.stack.append(dataval)\n",
        "      return True\n",
        "    else:\n",
        "      return False\n",
        "      # Use list pop method to remove element\n",
        "  def remove(self):\n",
        "    if len(self.stack) <= 0:\n",
        "      return (\"No element in the Stack\")\n",
        "    else:\n",
        "      return self.stack.pop()\n",
        "\n",
        "AStack = Stack()\n",
        "AStack.add(\"Mon\")\n",
        "AStack.add(\"Tue\")\n",
        "AStack.add(\"Wed\")\n",
        "AStack.add(\"Thu\")\n",
        "AStack.add(\"Fri\")\n",
        "AStack.add(\"Sat\")\n",
        "AStack.add(\"Sun\")\n",
        "print(AStack.stack)\n",
        "print(AStack.remove())\n",
        "print(AStack.remove())\n",
        "print(AStack.remove())\n",
        "print(AStack.remove())\n",
        "print(AStack.remove())\n",
        "print(AStack.remove())\n",
        "print(AStack.remove())\n",
        "print(AStack.remove())\n",
        "print(AStack.stack)"
      ]
    },
    {
      "cell_type": "code",
      "source": [
        "class Stack:\n",
        "  def create_stack():\n",
        "     stack = []\n",
        "     return stack\n",
        "  def is_empty(stack):\n",
        "     return len(stack) == 0\n",
        "  def push(stack, item):\n",
        "     stack.append(item)\n",
        "     print(\"Pushed Element: \" + item)\n",
        "  def pop(stack):\n",
        "    if (is_empty(stack)):\n",
        "      return \"The stack is empty\"\n",
        "    return stack.pop()\n",
        "\n",
        "stack = create_stack()\n",
        "push(stack, str(1))\n",
        "push(stack, str(2))\n",
        "push(stack, str(3))\n",
        "push(stack, str(4))\n",
        "push(stack, str(5))\n",
        "\n",
        "print(\"The elements in the stack are:\"+ str(stack))\n"
      ],
      "metadata": {
        "colab": {
          "base_uri": "https://localhost:8080/"
        },
        "id": "f7Kr9OmH4DZD",
        "outputId": "1b4418fa-6bcf-4046-aa78-a362c86d0c3e"
      },
      "execution_count": 28,
      "outputs": [
        {
          "output_type": "stream",
          "name": "stdout",
          "text": [
            "Pushed Element: 1\n",
            "Pushed Element: 2\n",
            "Pushed Element: 3\n",
            "Pushed Element: 4\n",
            "Pushed Element: 5\n",
            "The elements in the stack are:['1', '2', '3', '4', '5']\n"
          ]
        }
      ]
    },
    {
      "cell_type": "markdown",
      "source": [
        "# If you want to type additional codes, what will be the statement to pop 3 elements from the top of the stack?"
      ],
      "metadata": {
        "id": "zk9f4sFY8_X5"
      }
    },
    {
      "cell_type": "code",
      "source": [
        "class Stack:\n",
        "  def create_stack():\n",
        "     stack = []\n",
        "     return stack\n",
        "  def is_empty(stack):\n",
        "     return len(stack) == 0\n",
        "  def push(stack, item):\n",
        "     stack.append(item)\n",
        "     print(\"Pushed Element: \" + item)\n",
        "  def pop(stack):\n",
        "    if (is_empty(stack)):\n",
        "      return \"The stack is empty\"\n",
        "    return stack.pop()\n",
        "\n",
        "stack = create_stack()\n",
        "push(stack, str(1))\n",
        "push(stack, str(2))\n",
        "push(stack, str(3))\n",
        "push(stack, str(4))\n",
        "push(stack, str(5))\n",
        "pop(stack)\n",
        "pop(stack)\n",
        "pop(stack)\n",
        "\n",
        "print(\"The elements in the stack are:\"+ str(stack))\n"
      ],
      "metadata": {
        "colab": {
          "base_uri": "https://localhost:8080/"
        },
        "id": "p0sAZJcX8Zg5",
        "outputId": "80566adb-35f3-4295-b126-5212d8b007cf"
      },
      "execution_count": 29,
      "outputs": [
        {
          "output_type": "stream",
          "name": "stdout",
          "text": [
            "Pushed Element: 1\n",
            "Pushed Element: 2\n",
            "Pushed Element: 3\n",
            "Pushed Element: 4\n",
            "Pushed Element: 5\n",
            "The elements in the stack are:['1', '2']\n"
          ]
        }
      ]
    },
    {
      "cell_type": "markdown",
      "source": [
        "# If you will revise the codes, what will be the statement to determine the length of the stack?"
      ],
      "metadata": {
        "id": "qpPfNhgD9FpR"
      }
    },
    {
      "cell_type": "code",
      "source": [
        "class Stack:\n",
        "  def create_stack():\n",
        "     stack = []\n",
        "     return stack\n",
        "  def is_empty(stack):\n",
        "     return len(stack) == 0\n",
        "  def push(stack, item):\n",
        "     stack.append(item)\n",
        "     print(\"Pushed Element: \" + item)\n",
        "  def pop(stack):\n",
        "    if (is_empty(stack)):\n",
        "      return \"The stack is empty\"\n",
        "    return stack.pop()\n",
        "\n",
        "stack = create_stack()\n",
        "push(stack, str(1))\n",
        "push(stack, str(2))\n",
        "push(stack, str(3))\n",
        "push(stack, str(4))\n",
        "push(stack, str(5))\n",
        "print(\"The elements in the stack are:\"+ str(stack))\n",
        "print(\"The lenght of the stack is:\",len(stack))"
      ],
      "metadata": {
        "colab": {
          "base_uri": "https://localhost:8080/"
        },
        "id": "R4u8u9Vf8inp",
        "outputId": "259ad224-1508-4f5c-b1ea-20e186ed143d"
      },
      "execution_count": 33,
      "outputs": [
        {
          "output_type": "stream",
          "name": "stdout",
          "text": [
            "Pushed Element: 1\n",
            "Pushed Element: 2\n",
            "Pushed Element: 3\n",
            "Pushed Element: 4\n",
            "Pushed Element: 5\n",
            "The elements in the stack are:['1', '2', '3', '4', '5']\n",
            "The lenght of the stack is: 5\n"
          ]
        }
      ]
    },
    {
      "cell_type": "markdown",
      "source": [
        "\n",
        "\n",
        "1.   Upon typing the codes, what is the name of the abstract data type? How is it implemented?\n",
        "2.   What is the output of the codes?\n",
        "3.   If you want to type additional codes, what will be the statement to pop 3 elements from the top of the stack?\n",
        "4.   If you will revise the codes, what will be the statement to determine the length of the stack?\n",
        "\n",
        "\n",
        "\n",
        "\n",
        "\n",
        "\n",
        "\n",
        "\n",
        "\n",
        "\n",
        "(Note: You may add additional methods to count the no. of elements in the stack)"
      ],
      "metadata": {
        "id": "BKZvPweT4JJC"
      }
    }
  ]
}