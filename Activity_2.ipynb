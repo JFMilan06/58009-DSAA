{
  "nbformat": 4,
  "nbformat_minor": 0,
  "metadata": {
    "colab": {
      "provenance": [],
      "authorship_tag": "ABX9TyOPM939SS2xx4ebp3al4wiz",
      "include_colab_link": true
    },
    "kernelspec": {
      "name": "python3",
      "display_name": "Python 3"
    },
    "language_info": {
      "name": "python"
    }
  },
  "cells": [
    {
      "cell_type": "markdown",
      "metadata": {
        "id": "view-in-github",
        "colab_type": "text"
      },
      "source": [
        "<a href=\"https://colab.research.google.com/github/JFMilan06/58009-DSAA/blob/main/Activity_2.ipynb\" target=\"_parent\"><img src=\"https://colab.research.google.com/assets/colab-badge.svg\" alt=\"Open In Colab\"/></a>"
      ]
    },
    {
      "cell_type": "code",
      "execution_count": 28,
      "metadata": {
        "colab": {
          "base_uri": "https://localhost:8080/"
        },
        "id": "GjWzZPVnW_ZY",
        "outputId": "e98313be-8e3a-4b49-c29a-8d04da95069d"
      },
      "outputs": [
        {
          "output_type": "stream",
          "name": "stdout",
          "text": [
            "The Head of the Linkedlist is 2\n",
            "3\n",
            "5\n",
            "7\n",
            "11\n",
            "13\n",
            "17\n",
            "The Tail of the Linkedlist is 19\n"
          ]
        }
      ],
      "source": [
        "class Node:\n",
        "  def __init__(self, data):\n",
        "    self.data = data\n",
        "    self.next = None\n",
        "\n",
        "class LinkedList:\n",
        "  def __init__(self):\n",
        "    self.head = None\n",
        "\n",
        "\n",
        "  def Printll(self):\n",
        "    temp=self.head\n",
        "    while(temp):\n",
        "      print(temp.data)\n",
        "      temp=temp.next\n",
        "\n",
        "if __name__=='__main__':\n",
        "  ll = LinkedList()\n",
        "  ll.head=Node(\"The Head of the Linkedlist is 2\")\n",
        "  second=Node(3)\n",
        "  third=Node(5)\n",
        "  fourth=Node(7)\n",
        "  fifth=Node(11)\n",
        "  sixth=Node(13)\n",
        "  seventh=Node(17)\n",
        "  ll.tail=Node(\"The Tail of the Linkedlist is 19\")\n",
        "  ll.head.next=second\n",
        "  second.next=third\n",
        "  third.next=fourth\n",
        "  fourth.next=fifth\n",
        "  fifth.next=sixth\n",
        "  sixth.next=seventh\n",
        "  seventh.next=ll.tail\n",
        "\n",
        "ll.Printll()"
      ]
    }
  ]
}