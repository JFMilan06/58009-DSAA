{
  "nbformat": 4,
  "nbformat_minor": 0,
  "metadata": {
    "colab": {
      "provenance": [],
      "authorship_tag": "ABX9TyPnRG4A7I9rw8MY+ePg7tJI",
      "include_colab_link": true
    },
    "kernelspec": {
      "name": "python3",
      "display_name": "Python 3"
    },
    "language_info": {
      "name": "python"
    }
  },
  "cells": [
    {
      "cell_type": "markdown",
      "metadata": {
        "id": "view-in-github",
        "colab_type": "text"
      },
      "source": [
        "<a href=\"https://colab.research.google.com/github/JFMilan06/58009-DSAA/blob/main/Activity4.ipynb\" target=\"_parent\"><img src=\"https://colab.research.google.com/assets/colab-badge.svg\" alt=\"Open In Colab\"/></a>"
      ]
    },
    {
      "cell_type": "code",
      "source": [
        "queue = []\n",
        "#enqueue items from the queue\n",
        "queue.append('A')\n",
        "queue.append('B')\n",
        "queue.append('C')\n",
        "print(queue)\n",
        "\n",
        "#dequeue items from the queue\n",
        "print(queue.pop(0))\n",
        "print(queue.pop(0))\n",
        "print(queue.pop(0))\n",
        "print(queue)"
      ],
      "metadata": {
        "colab": {
          "base_uri": "https://localhost:8080/"
        },
        "id": "IY08hHwktGCO",
        "outputId": "3e9dd6ee-2254-48a6-c044-06a31b7feedc"
      },
      "execution_count": 48,
      "outputs": [
        {
          "output_type": "stream",
          "name": "stdout",
          "text": [
            "['A', 'B', 'C']\n",
            "A\n",
            "B\n",
            "C\n",
            "[]\n"
          ]
        }
      ]
    },
    {
      "cell_type": "code",
      "source": [
        "class Queue:\n",
        "  def __init__(self):\n",
        "    self.queue = []\n",
        "  def enqueue(self, dataval):\n",
        "    if dataval not in self.queue:\n",
        "      self.queue.append(dataval)\n",
        "      return True\n",
        "    else:\n",
        "      return False\n",
        "  def dequeue(self):\n",
        "    if len(self.queue) <= 0:\n",
        "      return (\"No element in the Queue\")\n",
        "    else:\n",
        "      return self.queue.pop(0)\n",
        "\n",
        "QUEUE = Queue()\n",
        "QUEUE.enqueue(\"A\")\n",
        "QUEUE.enqueue(\"B\")\n",
        "QUEUE.enqueue(\"C\")\n",
        "print(QUEUE.queue)\n",
        "print(QUEUE.dequeue())\n",
        "print(QUEUE.dequeue())\n",
        "print(QUEUE.dequeue())\n",
        "print(QUEUE.dequeue())\n",
        "print(QUEUE.queue)"
      ],
      "metadata": {
        "colab": {
          "base_uri": "https://localhost:8080/"
        },
        "id": "m-qEbCDwtTWL",
        "outputId": "ecff45c0-b3d8-4e3e-8aeb-022c67c88231"
      },
      "execution_count": 60,
      "outputs": [
        {
          "output_type": "stream",
          "name": "stdout",
          "text": [
            "['A', 'B', 'C']\n",
            "A\n",
            "B\n",
            "C\n",
            "No element in the Stack\n",
            "[]\n"
          ]
        }
      ]
    }
  ]
}