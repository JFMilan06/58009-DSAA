{
  "nbformat": 4,
  "nbformat_minor": 0,
  "metadata": {
    "colab": {
      "provenance": [],
      "authorship_tag": "ABX9TyOFEjp09Pq/e8CYuYMgRHc5",
      "include_colab_link": true
    },
    "kernelspec": {
      "name": "python3",
      "display_name": "Python 3"
    },
    "language_info": {
      "name": "python"
    }
  },
  "cells": [
    {
      "cell_type": "markdown",
      "metadata": {
        "id": "view-in-github",
        "colab_type": "text"
      },
      "source": [
        "<a href=\"https://colab.research.google.com/github/JFMilan06/58009-DSAA/blob/main/Long_Quiz_1.ipynb\" target=\"_parent\"><img src=\"https://colab.research.google.com/assets/colab-badge.svg\" alt=\"Open In Colab\"/></a>"
      ]
    },
    {
      "cell_type": "markdown",
      "source": [
        "# Create a python or C++ program that appends each character of your full name and displays each character in reverse order (50 points)"
      ],
      "metadata": {
        "id": "sL1XxMrJBz1p"
      }
    },
    {
      "cell_type": "code",
      "execution_count": 20,
      "metadata": {
        "colab": {
          "base_uri": "https://localhost:8080/"
        },
        "id": "OV8JtifI4-NF",
        "outputId": "15989214-d50e-4f98-93fe-dad1e60d729e"
      },
      "outputs": [
        {
          "output_type": "stream",
          "name": "stdout",
          "text": [
            "J\n",
            "O\n",
            "H\n",
            "N\n",
            "F\n",
            "R\n",
            "E\n",
            "D\n",
            "E\n",
            "R\n",
            "I\n",
            "C\n",
            "K\n",
            "L\n",
            "M\n",
            "I\n",
            "L\n",
            "A\n",
            "N\n",
            " \n",
            "N\n",
            "A\n",
            "L\n",
            "I\n",
            "M\n",
            "L\n",
            "K\n",
            "C\n",
            "I\n",
            "R\n",
            "E\n",
            "D\n",
            "E\n",
            "R\n",
            "F\n",
            "N\n",
            "H\n",
            "O\n",
            "J\n"
          ]
        }
      ],
      "source": [
        "class Node:\n",
        "  def __init__(self, data):\n",
        "    self.data = data\n",
        "    self.next = None\n",
        "    self.prev = None\n",
        "\n",
        "class LinkedList:\n",
        "  def __init__(self):\n",
        "    self.head = None\n",
        "    self.tail = None\n",
        "\n",
        "  def prevlist(self):\n",
        "    temp=self.tail\n",
        "    while(temp):\n",
        "      print(temp.data)\n",
        "      temp=temp.prev\n",
        "\n",
        "  def printlist(self):\n",
        "    temp=self.head\n",
        "    while(temp):\n",
        "      print(temp.data)\n",
        "      temp=temp.next\n",
        "\n",
        "\n",
        "if __name__=='__main__':\n",
        "  llist = LinkedList()\n",
        "  llist.head = Node(\"J\")\n",
        "  a = Node(\"O\")\n",
        "  b = Node(\"H\")\n",
        "  c = Node(\"N\")\n",
        "  d = Node(\"F\")\n",
        "  e = Node(\"R\")\n",
        "  f = Node(\"E\")\n",
        "  g = Node(\"D\")\n",
        "  h = Node(\"E\")\n",
        "  i = Node(\"R\")\n",
        "  j = Node(\"I\")\n",
        "  k = Node(\"C\")\n",
        "  l = Node(\"K\")\n",
        "  m = Node(\"L\")\n",
        "  n = Node(\"M\")\n",
        "  o = Node(\"I\")\n",
        "  p = Node(\"L\")\n",
        "  q = Node(\"A\")\n",
        "  llist.tail = Node(\"N\")\n",
        "  llist.head.next = a\n",
        "  a.next =b\n",
        "  b.next =c\n",
        "  c.next =d\n",
        "  d.next =e\n",
        "  e.next =f\n",
        "  f.next =g\n",
        "  g.next =h\n",
        "  h.next =i\n",
        "  i.next =j\n",
        "  j.next =k\n",
        "  k.next =l\n",
        "  l.next =m\n",
        "  m.next =n\n",
        "  n.next =o\n",
        "  o.next =p\n",
        "  p.next =q\n",
        "  q.next =llist.tail\n",
        "  llist.tail.prev = q\n",
        "  q.prev = p\n",
        "  p.prev = o\n",
        "  o.prev = n\n",
        "  n.prev = m\n",
        "  m.prev = l\n",
        "  l.prev = k\n",
        "  k.prev = j\n",
        "  j.prev = i\n",
        "  i.prev = h\n",
        "  h.prev = g\n",
        "  g.prev = f\n",
        "  f.prev = e\n",
        "  e.prev = d\n",
        "  d.prev = c\n",
        "  c.prev = b\n",
        "  b.prev = a\n",
        "  a.prev = llist.head\n",
        "\n",
        "\n",
        "llist.printlist()\n",
        "print(\" \")\n",
        "llist.prevlist()"
      ]
    },
    {
      "cell_type": "markdown",
      "source": [
        "# Using the set of positive whole numbers from 1 to 10, create a python or C++ program that displays if it is prime or composite. (50 points)"
      ],
      "metadata": {
        "id": "RJx08lHvEGLZ"
      }
    },
    {
      "cell_type": "code",
      "source": [
        "class Node:\n",
        "  def __init__(self, data = None, next=None):\n",
        "    self.data = data\n",
        "    self.next = next\n",
        "\n",
        "class LinkedList:\n",
        "  def __init__(self):\n",
        "    self.head = None\n",
        "\n",
        "  def insert(self, data):\n",
        "    newNode = Node(data)\n",
        "    if(self.head):\n",
        "      current = self.head\n",
        "      while(current.next):\n",
        "        current = current.next\n",
        "      current.next = newNode\n",
        "    else:\n",
        "      self.head = newNode\n",
        "\n",
        "  def printLL(self):\n",
        "    current = self.head\n",
        "    while(current):\n",
        "      print(current.data)\n",
        "      current = current.next\n",
        "\n",
        "LL = LinkedList()\n",
        "lrange=1\n",
        "urange=10\n",
        "\n",
        "for num in range(lrange, urange + 1):\n",
        "   if num > 0:\n",
        "       for i in range(2, num):\n",
        "\n",
        "\n",
        "          if (num % i) == 0:\n",
        "            LL.insert(num)\n",
        "            print(num,\"is a composite number\")\n",
        "            break\n",
        "       else:\n",
        "           LL.insert(num)\n",
        "           print(num,\"is a prime number\")"
      ],
      "metadata": {
        "colab": {
          "base_uri": "https://localhost:8080/"
        },
        "id": "iuV8JJOkJKZm",
        "outputId": "44af4aa6-6811-406e-d24a-add1729d64cf"
      },
      "execution_count": 73,
      "outputs": [
        {
          "output_type": "stream",
          "name": "stdout",
          "text": [
            "1 is a prime number\n",
            "2 is a prime number\n",
            "3 is a prime number\n",
            "4 is a composite number\n",
            "5 is a prime number\n",
            "6 is a composite number\n",
            "7 is a prime number\n",
            "8 is a composite number\n",
            "9 is a composite number\n",
            "10 is a composite number\n"
          ]
        }
      ]
    },
    {
      "cell_type": "code",
      "source": [
        "lrange=1\n",
        "urange=10\n",
        "\n",
        "for num in range(lrange, urange + 1):\n",
        "   if num > 1:\n",
        "       for i in range(2, num):\n",
        "           if (num % i) == 0:\n",
        "\n",
        "\n",
        "            break\n",
        "       else:\n",
        "           print(num)"
      ],
      "metadata": {
        "colab": {
          "base_uri": "https://localhost:8080/"
        },
        "id": "oZU3MI9-M7DD",
        "outputId": "21b87723-0be8-4c09-b5fb-6b3fd02b8723"
      },
      "execution_count": 57,
      "outputs": [
        {
          "output_type": "stream",
          "name": "stdout",
          "text": [
            "2\n",
            "3\n",
            "5\n",
            "7\n"
          ]
        }
      ]
    }
  ]
}